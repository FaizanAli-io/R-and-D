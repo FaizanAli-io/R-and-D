{
 "cells": [
  {
   "cell_type": "code",
   "execution_count": 1,
   "id": "6bc641a5",
   "metadata": {},
   "outputs": [],
   "source": [
    "import math\n",
    "import random\n",
    "import numpy as np\n",
    "import matplotlib.pyplot as plt\n",
    "from numpy.linalg import inv"
   ]
  },
  {
   "cell_type": "code",
   "execution_count": 2,
   "id": "6435581b",
   "metadata": {},
   "outputs": [
    {
     "name": "stdout",
     "output_type": "stream",
     "text": [
      "Center (32.06187566669529, 19.88837932673825)\n",
      "Radius 14.694300400513793\n"
     ]
    },
    {
     "data": {
      "image/png": "[encoded data removed]",
      "text/plain": [
       "<Figure size 640x480 with 1 Axes>"
      ]
     },
     "metadata": {},
     "output_type": "display_data"
    }
   ],
   "source": [
    "pi = 3.1415\n",
    "\n",
    "cx = random.random() * 50\n",
    "cy = random.random() * 50\n",
    "cr = random.random() * 25\n",
    "\n",
    "i = 0\n",
    "cp = []\n",
    "while i <= 2 * pi:\n",
    "    px = cx + math.cos(i) * cr\n",
    "    py = cy + math.sin(i) * cr\n",
    "    cp.append((px, py))\n",
    "    i += pi / 64\n",
    "cp = np.array(cp)\n",
    "\n",
    "print(\"Center\", (cx, cy))\n",
    "print(\"Radius\", cr)\n",
    "\n",
    "plt.plot(cp[:, 0], cp[:, 1])\n",
    "plt.xlim([-25, 75])\n",
    "plt.ylim([-20, 60])\n",
    "plt.show()"
   ]
  },
  {
   "cell_type": "code",
   "execution_count": 3,
   "id": "76a3daf4",
   "metadata": {},
   "outputs": [],
   "source": [
    "class RANSAC:\n",
    "    def __init__(self, x_data, y_data, n):\n",
    "        self.x_data = x_data\n",
    "        self.y_data = y_data\n",
    "        self.n = n\n",
    "        self.d_min = 99999\n",
    "        self.best_model = None\n",
    "\n",
    "    def random_sampling(self):\n",
    "        sample_indices = np.random.choice(len(self.x_data), 3, replace=False)\n",
    "        sample = list(zip([self.x_data[i] for i in sample_indices], [\n",
    "                      self.y_data[i] for i in sample_indices]))\n",
    "\n",
    "        return sample\n",
    "\n",
    "    def make_model(self, sample):\n",
    "        try:\n",
    "            pt1 = sample[0]\n",
    "            pt2 = sample[1]\n",
    "            pt3 = sample[2]\n",
    "\n",
    "            A = np.array([[pt2[0] - pt1[0], pt2[1] - pt1[1]],\n",
    "                         [pt3[0] - pt2[0], pt3[1] - pt2[1]]])\n",
    "            B = np.array([[pt2[0]**2 - pt1[0]**2 + pt2[1]**2 - pt1[1]**2],\n",
    "                         [pt3[0]**2 - pt2[0]**2 + pt3[1]**2 - pt2[1]**2]])\n",
    "            try:\n",
    "                if (np.linalg.det(A) == 0):\n",
    "                    return None\n",
    "                inv_A = inv(A)\n",
    "                c_x, c_y = np.dot(inv_A, B) / 2\n",
    "                c_x, c_y = c_x[0], c_y[0]\n",
    "                r = np.sqrt((c_x - pt1[0])**2 + (c_y - pt1[1])**2)\n",
    "                return c_x, c_y, r,\n",
    "            except:\n",
    "                self.best_model = None\n",
    "                return None\n",
    "        except:\n",
    "            return None\n",
    "\n",
    "    def eval_model(self, model):\n",
    "        c_x, c_y, r = model\n",
    "        distances = np.sqrt((self.x_data-c_x)**2 + (self.y_data-c_y)**2)\n",
    "        d = np.sum(np.abs(distances - r))\n",
    "        return d\n",
    "\n",
    "    def execute_ransac(self):\n",
    "        # find best model\n",
    "        for i in range(self.n):\n",
    "            model = self.make_model(self.random_sampling())\n",
    "            if model is not None:\n",
    "                d_temp = self.eval_model(model)\n",
    "                if self.d_min > d_temp:\n",
    "                    self.best_model = model\n",
    "                    self.d_min = d_temp"
   ]
  },
  {
   "cell_type": "code",
   "execution_count": 4,
   "id": "1063a75c",
   "metadata": {},
   "outputs": [],
   "source": [
    "class LSC:\n",
    "    def __init__(self, points):\n",
    "        self.points = points\n",
    "    \n",
    "    def compute(self):\n",
    "        x = self.points[:, 0]\n",
    "        y = self.points[:, 1]\n",
    "        n = len(self.points)\n",
    "        \n",
    "        sxsq = np.sum(x ** 2)\n",
    "        sysq = np.sum(y ** 2)\n",
    "        sxy = np.sum(x * y)\n",
    "        sx = np.sum(x)\n",
    "        sy = np.sum(y)\n",
    "        \n",
    "        left = np.array([\n",
    "            [sxsq, sxy, sx],\n",
    "            [sxy, sysq, sy],\n",
    "            [sx, sy, n],\n",
    "        ])\n",
    "        \n",
    "        right = np.array([\n",
    "            np.sum(x * (x ** 2 + y ** 2)),\n",
    "            np.sum(y * (x ** 2 + y ** 2)),\n",
    "            np.sum(x ** 2 + y ** 2),\n",
    "        ])\n",
    "        \n",
    "        sol = np.dot(np.linalg.inv(left), right)\n",
    "        \n",
    "        A, B, C = sol\n",
    "        \n",
    "        k = A / 2\n",
    "        m = B / 2\n",
    "        r = (np.sqrt(4 * C + A ** 2 + B ** 2)) / 2\n",
    "        \n",
    "        return k, m, r"
   ]
  },
  {
   "cell_type": "code",
   "execution_count": 8,
   "id": "b2c4120c",
   "metadata": {},
   "outputs": [
    {
     "name": "stdout",
     "output_type": "stream",
     "text": [
      "(32.06187566669529, 19.88837932673825, 14.694300400513793)\n",
      "CPU times: total: 0 ns\n",
      "Wall time: 11.1 ms\n"
     ]
    }
   ],
   "source": [
    "%%time\n",
    "\n",
    "ransac = RANSAC(cp[:, 0], cp[:, 1], 25)\n",
    "ransac.execute_ransac()\n",
    "\n",
    "if not ransac.best_model:\n",
    "    print(\"Failed\")\n",
    "else:\n",
    "    print(ransac.best_model)"
   ]
  },
  {
   "cell_type": "code",
   "execution_count": 9,
   "id": "6edddb3f",
   "metadata": {},
   "outputs": [
    {
     "name": "stdout",
     "output_type": "stream",
     "text": [
      "CPU times: total: 0 ns\n",
      "Wall time: 1e+03 µs\n"
     ]
    },
    {
     "data": {
      "text/plain": [
       "(32.06187566669527, 19.888379326738253, 14.69430040051379)"
      ]
     },
     "execution_count": 9,
     "metadata": {},
     "output_type": "execute_result"
    }
   ],
   "source": [
    "%%time\n",
    "\n",
    "LSC(cp).compute()"
   ]
  },
  {
   "cell_type": "code",
   "execution_count": null,
   "id": "0a19dbd9",
   "metadata": {},
   "outputs": [],
   "source": []
  }
 ],
 "metadata": {
  "kernelspec": {
   "display_name": "Python 3 (ipykernel)",
   "language": "python",
   "name": "python3"
  },
  "language_info": {
   "codemirror_mode": {
    "name": "ipython",
    "version": 3
   },
   "file_extension": ".py",
   "mimetype": "text/x-python",
   "name": "python",
   "nbconvert_exporter": "python",
   "pygments_lexer": "ipython3",
   "version": "3.10.11"
  }
 },
 "nbformat": 4,
 "nbformat_minor": 5
}
